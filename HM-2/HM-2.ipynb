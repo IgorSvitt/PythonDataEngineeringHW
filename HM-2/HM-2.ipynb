{
 "cells": [
  {
   "cell_type": "markdown",
   "id": "822337ae-d82a-483a-8668-810bbfadac41",
   "metadata": {},
   "source": [
    "# ДЗ 2"
   ]
  },
  {
   "cell_type": "code",
   "execution_count": 15,
   "id": "b47e2932-275e-4d8c-ae2e-0c557ec4496d",
   "metadata": {},
   "outputs": [],
   "source": [
    "from datetime import datetime, timedelta"
   ]
  },
  {
   "cell_type": "markdown",
   "id": "e5dee437-a2bf-41d8-a547-2730499a6f6d",
   "metadata": {},
   "source": [
    "###  Задание 1\n",
    "<br>Печатные газеты использовали свой формат дат для каждого выпуска. Для каждой\n",
    "газеты из списка напишите формат указанной даты для перевода в объект datetime:\n",
    "<br>The Moscow Times - Wednesday, October 2, 2002\n",
    "<br>The Guardian - Friday, 11.10.13\n",
    "<br>Daily News - Thursday, 18 August 1977"
   ]
  },
  {
   "cell_type": "code",
   "execution_count": 16,
   "id": "8a4d5aa1-dd74-4dc5-95f8-08ab94835607",
   "metadata": {},
   "outputs": [],
   "source": [
    "def parse_newspaper_date(newspaper, date_str):\n",
    "    formats = {\n",
    "        \"The Moscow Times\": \"%A, %B %d, %Y\",\n",
    "        \"The Guardian\": \"%A, %d.%m.%y\",\n",
    "        \"Daily News\": \"%A, %d %B %Y\"\n",
    "    }\n",
    "    \n",
    "    date_format = formats.get(newspaper)\n",
    "    \n",
    "    if date_format is None:\n",
    "        raise ValueError(f\"Unknown newspaper: {newspaper}\")\n",
    "    \n",
    "    return datetime.strptime(date_str, date_format)"
   ]
  },
  {
   "cell_type": "code",
   "execution_count": 17,
   "id": "9836011f-2447-4dd8-aa6b-d4a39c1a768a",
   "metadata": {},
   "outputs": [
    {
     "data": {
      "text/plain": [
       "datetime.datetime(1977, 8, 18, 0, 0)"
      ]
     },
     "execution_count": 17,
     "metadata": {},
     "output_type": "execute_result"
    }
   ],
   "source": [
    "parse_newspaper_date(\"Daily News\", \"Thursday, 18 August 1977\")"
   ]
  },
  {
   "cell_type": "code",
   "execution_count": 18,
   "id": "fd3f3b56-351b-4dae-a197-086f097427c0",
   "metadata": {},
   "outputs": [
    {
     "data": {
      "text/plain": [
       "datetime.datetime(2013, 10, 11, 0, 0)"
      ]
     },
     "execution_count": 18,
     "metadata": {},
     "output_type": "execute_result"
    }
   ],
   "source": [
    "parse_newspaper_date(\"The Guardian\", \"Friday, 11.10.13\")"
   ]
  },
  {
   "cell_type": "code",
   "execution_count": 19,
   "id": "2d9abf46-ffd1-43c5-99f1-d698918e9a59",
   "metadata": {},
   "outputs": [
    {
     "data": {
      "text/plain": [
       "datetime.datetime(2002, 10, 2, 0, 0)"
      ]
     },
     "execution_count": 19,
     "metadata": {},
     "output_type": "execute_result"
    }
   ],
   "source": [
    "parse_newspaper_date(\"The Moscow Times\", \"Wednesday, October 2, 2002\")"
   ]
  },
  {
   "cell_type": "markdown",
   "id": "679c25cb-b8a7-47ae-a9c9-cec8d533c1d4",
   "metadata": {},
   "source": [
    "### Задание 2\n",
    "Напишите функцию date_range, которая возвращает список дат за период от start_date\n",
    "до end_date. Даты должны вводиться в формате YYYY-MM-DD. В случае неверного\n",
    "формата или при start_date > end_date должен возвращаться пустой список."
   ]
  },
  {
   "cell_type": "code",
   "execution_count": 20,
   "id": "faaa9d59-21b1-454f-8fa2-864784ee424c",
   "metadata": {},
   "outputs": [],
   "source": [
    "def date_range(start_date, end_date):\n",
    "    date_format = \"%Y-%m-%d\"\n",
    "    \n",
    "    try:\n",
    "\n",
    "        start = datetime.strptime(start_date, date_format)\n",
    "        end = datetime.strptime(end_date, date_format)\n",
    "\n",
    "        if start > end:\n",
    "            return []\n",
    "\n",
    "        date_list = []\n",
    "        current_date = start\n",
    "        \n",
    "        while current_date <= end:\n",
    "            date_list.append(current_date.strftime(date_format))\n",
    "            current_date += timedelta(days=1)\n",
    "        \n",
    "        return date_list\n",
    "    except ValueError:\n",
    "        return []"
   ]
  },
  {
   "cell_type": "code",
   "execution_count": 21,
   "id": "2b187fd9-065f-4e33-a4f7-d0df393d991a",
   "metadata": {},
   "outputs": [
    {
     "data": {
      "text/plain": [
       "['2022-01-01', '2022-01-02', '2022-01-03']"
      ]
     },
     "execution_count": 21,
     "metadata": {},
     "output_type": "execute_result"
    }
   ],
   "source": [
    "date_range('2022-01-01', '2022-01-03')"
   ]
  },
  {
   "cell_type": "code",
   "execution_count": 22,
   "id": "a2b12bec-a021-4bea-8233-800191d063ae",
   "metadata": {},
   "outputs": [
    {
     "data": {
      "text/plain": [
       "[]"
      ]
     },
     "execution_count": 22,
     "metadata": {},
     "output_type": "execute_result"
    }
   ],
   "source": [
    "date_range('2022-01-03', '2022-01-01')"
   ]
  },
  {
   "cell_type": "code",
   "execution_count": null,
   "id": "082f71d2-fd23-4bc5-9e9a-ec2958555a3b",
   "metadata": {},
   "outputs": [],
   "source": []
  }
 ],
 "metadata": {
  "kernelspec": {
   "display_name": "Python 3 (ipykernel)",
   "language": "python",
   "name": "python3"
  },
  "language_info": {
   "codemirror_mode": {
    "name": "ipython",
    "version": 3
   },
   "file_extension": ".py",
   "mimetype": "text/x-python",
   "name": "python",
   "nbconvert_exporter": "python",
   "pygments_lexer": "ipython3",
   "version": "3.11.6"
  }
 },
 "nbformat": 4,
 "nbformat_minor": 5
}
