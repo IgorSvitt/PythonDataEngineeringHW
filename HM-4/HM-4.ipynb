{
 "cells": [
  {
   "cell_type": "markdown",
   "id": "dc479fe9-31f2-4cbe-a198-744533520130",
   "metadata": {},
   "source": [
    "# ДЗ 4"
   ]
  },
  {
   "cell_type": "code",
   "execution_count": 1,
   "id": "6335be79-9a7b-4c33-890a-925e7a05ad8b",
   "metadata": {},
   "outputs": [],
   "source": [
    "import re"
   ]
  },
  {
   "cell_type": "markdown",
   "id": "414e49bf-a31f-4b73-a9ee-272f164bcc4e",
   "metadata": {},
   "source": [
    "### Задание 1"
   ]
  },
  {
   "cell_type": "markdown",
   "id": "01d88ab8-cd5a-4de1-bbbd-b49aaef2b3dd",
   "metadata": {},
   "source": [
    "Напишите функцию, которая принимает на вход строку и проверяет, является\n",
    "ли она валидным транспортным номером (1 буква, 3 цифры, 2 буквы, 2–3\n",
    "цифры). Обратите внимание, что не все буквы кириллического алфавита\n",
    "используются в транспортных номерах."
   ]
  },
  {
   "cell_type": "code",
   "execution_count": 17,
   "id": "cfdd9826-0a99-4134-8714-7f7d532aa05f",
   "metadata": {},
   "outputs": [],
   "source": [
    "def is_valid_vehicle_number(number: str):\n",
    "    pattern = r'^([АВЕКМНОРСТУХ]{1}\\d{3}[АВЕКМНОРСТУХ]{2})(\\d{2,3})$'\n",
    "    \n",
    "    match = re.match(pattern, number)\n",
    "    if match:\n",
    "        car_number = match.group(1)\n",
    "        region = match.group(2)\n",
    "        return f\"Номер {car_number} валиден. Регион: {region}.\"\n",
    "    else:\n",
    "        return \"Номер не валиден.\""
   ]
  },
  {
   "cell_type": "code",
   "execution_count": 18,
   "id": "ff533fc5-2f6f-452e-933e-a763cb4d8035",
   "metadata": {},
   "outputs": [
    {
     "name": "stdout",
     "output_type": "stream",
     "text": [
      "Номер А222ВС валиден. Регион: 96.\n"
     ]
    }
   ],
   "source": [
    "print(is_valid_vehicle_number('А222ВС96'))"
   ]
  },
  {
   "cell_type": "code",
   "execution_count": 19,
   "id": "4b0e16d4-76c7-4826-95c5-78fb98718525",
   "metadata": {},
   "outputs": [
    {
     "name": "stdout",
     "output_type": "stream",
     "text": [
      "Номер не валиден.\n"
     ]
    }
   ],
   "source": [
    "print(is_valid_vehicle_number('АБ22ВВ193'))"
   ]
  },
  {
   "cell_type": "code",
   "execution_count": null,
   "id": "ce183273-1914-43b4-81c2-b2f345103678",
   "metadata": {},
   "outputs": [],
   "source": []
  }
 ],
 "metadata": {
  "kernelspec": {
   "display_name": "Python 3 (ipykernel)",
   "language": "python",
   "name": "python3"
  },
  "language_info": {
   "codemirror_mode": {
    "name": "ipython",
    "version": 3
   },
   "file_extension": ".py",
   "mimetype": "text/x-python",
   "name": "python",
   "nbconvert_exporter": "python",
   "pygments_lexer": "ipython3",
   "version": "3.11.6"
  }
 },
 "nbformat": 4,
 "nbformat_minor": 5
}
