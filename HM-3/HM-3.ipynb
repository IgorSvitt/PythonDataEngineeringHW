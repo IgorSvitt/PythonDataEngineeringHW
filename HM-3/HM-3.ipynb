{
 "cells": [
  {
   "cell_type": "markdown",
   "id": "31b6cc90-0412-4632-aa26-b220621f5733",
   "metadata": {},
   "source": [
    "# ДЗ 3"
   ]
  },
  {
   "cell_type": "markdown",
   "id": "d88743fb-c041-44cd-88da-608a6e132e3a",
   "metadata": {},
   "source": [
    "Нужно реализовать класс Account, который отражает абстракцию базового\n",
    "поведения банковского аккаунта:\n",
    "* создать банковский аккаунт с параметрами: имя; стартовый баланс с\n",
    "которым зарегистрирован аккаунт; история операций;\n",
    "* реализовать два метода, которые позволяют положить деньги на счёт\n",
    "или снять деньги со счёта;\n",
    "* продумать, как можно хранить историю поступления или снятия\n",
    "денег, чтобы с ней было удобно работать."
   ]
  },
  {
   "cell_type": "code",
   "execution_count": 3,
   "id": "abaf87f0-50d7-4e6f-aac9-aac942e6da09",
   "metadata": {},
   "outputs": [],
   "source": [
    "from datetime import datetime"
   ]
  },
  {
   "cell_type": "code",
   "execution_count": 11,
   "id": "9458504e-8079-4a01-bc62-22333f528931",
   "metadata": {},
   "outputs": [],
   "source": [
    "class Account:\n",
    "    def __init__(self, name, initial_balance=0):\n",
    "        self.name = name\n",
    "        self.balance = initial_balance\n",
    "        self.transaction_history = [] \n",
    "\n",
    "    def deposit(self, amount):\n",
    "        if amount > 0:\n",
    "            self.balance += amount\n",
    "            timestamp = datetime.now().strftime('%Y-%m-%d %H:%M:%S')\n",
    "            self.transaction_history.append(f\"[{timestamp}] Deposited: {amount}\")\n",
    "            print(f\"Deposited {amount}. New balance: {self.balance}\")\n",
    "        else:\n",
    "            print(\"Deposit amount must be positive.\")\n",
    "\n",
    "    def withdraw(self, amount):\n",
    "        if 0 < amount <= self.balance:\n",
    "            self.balance -= amount\n",
    "            timestamp = datetime.now().strftime('%Y-%m-%d %H:%M:%S')\n",
    "            self.transaction_history.append(f\"[{timestamp}] Withdrew: {amount}\")\n",
    "            print(f\"Withdrew {amount}. New balance: {self.balance}\")\n",
    "        else:\n",
    "            print(\"Insufficient funds or invalid withdrawal amount.\")\n",
    "    \n",
    "    def get_transaction_history(self):\n",
    "        return self.transaction_history"
   ]
  },
  {
   "cell_type": "code",
   "execution_count": 12,
   "id": "ebab07b8-c69d-4d48-a870-f26846e6dd66",
   "metadata": {},
   "outputs": [
    {
     "name": "stdout",
     "output_type": "stream",
     "text": [
      "Deposited 500. New balance: 1500\n",
      "Withdrew 200. New balance: 1300\n"
     ]
    },
    {
     "data": {
      "text/plain": [
       "['[2024-10-05 15:04:18] Deposited: 500', '[2024-10-05 15:04:18] Withdrew: 200']"
      ]
     },
     "execution_count": 12,
     "metadata": {},
     "output_type": "execute_result"
    }
   ],
   "source": [
    "account = Account(\"Anton\", 1000)\n",
    "account.deposit(500)\n",
    "account.withdraw(200)\n",
    "history = account.get_transaction_history()\n",
    "\n",
    "history"
   ]
  },
  {
   "cell_type": "code",
   "execution_count": 13,
   "id": "f8b0ef4c-e019-43bb-9728-88ec60abe665",
   "metadata": {},
   "outputs": [
    {
     "name": "stdout",
     "output_type": "stream",
     "text": [
      "Deposited 500. New balance: 1800\n",
      "Withdrew 200. New balance: 1600\n"
     ]
    }
   ],
   "source": [
    "account.deposit(500)\n",
    "account.withdraw(200)"
   ]
  },
  {
   "cell_type": "code",
   "execution_count": 14,
   "id": "46a05509-811f-42e6-b308-e3ab9a819e38",
   "metadata": {},
   "outputs": [
    {
     "data": {
      "text/plain": [
       "['[2024-10-05 15:04:18] Deposited: 500',\n",
       " '[2024-10-05 15:04:18] Withdrew: 200',\n",
       " '[2024-10-05 15:04:18] Deposited: 500',\n",
       " '[2024-10-05 15:04:18] Withdrew: 200']"
      ]
     },
     "execution_count": 14,
     "metadata": {},
     "output_type": "execute_result"
    }
   ],
   "source": [
    "history = account.get_transaction_history()\n",
    "history"
   ]
  }
 ],
 "metadata": {
  "kernelspec": {
   "display_name": "Python 3 (ipykernel)",
   "language": "python",
   "name": "python3"
  },
  "language_info": {
   "codemirror_mode": {
    "name": "ipython",
    "version": 3
   },
   "file_extension": ".py",
   "mimetype": "text/x-python",
   "name": "python",
   "nbconvert_exporter": "python",
   "pygments_lexer": "ipython3",
   "version": "3.11.6"
  }
 },
 "nbformat": 4,
 "nbformat_minor": 5
}
