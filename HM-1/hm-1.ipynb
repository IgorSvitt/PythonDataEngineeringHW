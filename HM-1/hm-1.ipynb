{
 "cells": [
  {
   "cell_type": "markdown",
   "id": "53c297ae-c0cf-4564-b572-eb0238cc3396",
   "metadata": {},
   "source": [
    "# ДЗ 1"
   ]
  },
  {
   "cell_type": "code",
   "execution_count": 31,
   "id": "3160c0c0-73d9-4ab3-ba4b-6d51417de0ed",
   "metadata": {},
   "outputs": [],
   "source": [
    "import json"
   ]
  },
  {
   "cell_type": "markdown",
   "id": "a84ed6f3-d303-4580-abfa-28fffa9afd07",
   "metadata": {},
   "source": [
    "### Задание 1"
   ]
  },
  {
   "cell_type": "markdown",
   "id": "3104bd57-dd1b-4d0a-a7e0-c29ce4b78599",
   "metadata": {},
   "source": [
    "Переведите содержимое файла purchase_log.txt в словарь purchases вида: {'1840e0b9d4': 'Продукты', ...}\n",
    "<br>Пример работы программы при выводе первых двух элементов словаря purchases:\n",
    "<br>1840e0b9d4 ‘Продукты‘\n",
    "<br>4e4f90fcfb ‘Электроника‘"
   ]
  },
  {
   "cell_type": "code",
   "execution_count": 35,
   "id": "6abdf589-29fc-4ce2-917d-4ed93691597e",
   "metadata": {},
   "outputs": [],
   "source": [
    "purchases = {}"
   ]
  },
  {
   "cell_type": "code",
   "execution_count": 36,
   "id": "36d6ca57-c5c2-4ba5-8803-0895c90aedb3",
   "metadata": {},
   "outputs": [],
   "source": [
    "with open('data/purchase_log.txt', 'r') as f:\n",
    "    for line in f:\n",
    "        purchase_log_dict = json.loads(line)\n",
    "        user_id = purchase_log_dict['user_id']\n",
    "        category = purchase_log_dict['category']\n",
    "        purchases[user_id] = category "
   ]
  },
  {
   "cell_type": "code",
   "execution_count": 37,
   "id": "38e1e41b-d1bf-49e5-beca-842183aee655",
   "metadata": {},
   "outputs": [
    {
     "name": "stdout",
     "output_type": "stream",
     "text": [
      "user_id: category\n",
      "1840e0b9d4: Продукты\n",
      "4e4f90fcfb: Электроника\n",
      "afea8d72fc: Электроника\n",
      "373a6055fe: Бытовая техника\n"
     ]
    }
   ],
   "source": [
    "first_five_purchase = list(purchases.items())[:5]\n",
    "\n",
    "for key, value in first_five_purchase:\n",
    "    print(f\"{key}: {value}\")"
   ]
  },
  {
   "cell_type": "markdown",
   "id": "ba9d011a-55ca-49b1-889d-b402c311387a",
   "metadata": {},
   "source": [
    "### Задание 2 "
   ]
  },
  {
   "cell_type": "markdown",
   "id": "1fa85da4-b44c-4c6f-8dc3-6572ebaea693",
   "metadata": {},
   "source": [
    "Для каждого user_id в файле visit_log.csv определите третий столбец с категорией покупки. Если покупка была, сам файл visit_log.csv изменять не надо.\n",
    "<br><br>Запишите в файл funnel.csv визиты из файла visit_log.csv, в которых были покупки с указанием категории.\n",
    "<br><br>Учтите условия для данных:\n",
    "* содержимое purchase_log.txt помещается в оперативную память компьютера;\n",
    "* содержимое visit_log.csv — нет, используйте только построчную обработку этого файла."
   ]
  },
  {
   "cell_type": "code",
   "execution_count": 38,
   "id": "38bd2a5c-6644-41d6-b9f4-de61acc9c8d1",
   "metadata": {},
   "outputs": [],
   "source": [
    "purchases = {}"
   ]
  },
  {
   "cell_type": "code",
   "execution_count": 39,
   "id": "b3ee8596-987a-4607-9263-61a5eaaa1c17",
   "metadata": {},
   "outputs": [],
   "source": [
    "with open('data/purchase_log.txt', 'r') as f:\n",
    "    for line in f:\n",
    "        purchase_log_dict = json.loads(line)\n",
    "        user_id = purchase_log_dict['user_id']\n",
    "        category = purchase_log_dict['category']\n",
    "        purchases[user_id] = category "
   ]
  },
  {
   "cell_type": "code",
   "execution_count": 40,
   "id": "9cbe744a-5550-423b-9c7c-a83ec53b46c3",
   "metadata": {},
   "outputs": [],
   "source": [
    "with open('data/visit_log.csv', 'r') as f_in, open('data/funnel.csv', 'w') as f_out:\n",
    "    for line in f_in:\n",
    "        user_id = line.strip().split(',')[0]\n",
    "        if user_id in purchases:\n",
    "            category = purchases[user_id]\n",
    "            f_out.write(f\"{line.strip()},{category}\\n\")"
   ]
  },
  {
   "cell_type": "code",
   "execution_count": null,
   "id": "d15cc119-fe4d-4bd7-836b-f7081072ed58",
   "metadata": {},
   "outputs": [],
   "source": []
  }
 ],
 "metadata": {
  "kernelspec": {
   "display_name": "Python 3 (ipykernel)",
   "language": "python",
   "name": "python3"
  },
  "language_info": {
   "codemirror_mode": {
    "name": "ipython",
    "version": 3
   },
   "file_extension": ".py",
   "mimetype": "text/x-python",
   "name": "python",
   "nbconvert_exporter": "python",
   "pygments_lexer": "ipython3",
   "version": "3.11.6"
  }
 },
 "nbformat": 4,
 "nbformat_minor": 5
}
